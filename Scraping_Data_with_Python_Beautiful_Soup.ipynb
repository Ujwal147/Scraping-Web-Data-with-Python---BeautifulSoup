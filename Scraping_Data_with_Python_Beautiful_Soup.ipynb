{
  "nbformat": 4,
  "nbformat_minor": 0,
  "metadata": {
    "colab": {
      "name": "Scraping Data with Python Beautiful Soup.ipynb",
      "provenance": []
    },
    "kernelspec": {
      "name": "python3",
      "display_name": "Python 3"
    },
    "language_info": {
      "name": "python"
    }
  },
  "cells": [
    {
      "cell_type": "markdown",
      "source": [
        "**Imports**"
      ],
      "metadata": {
        "id": "bY1YihbcvVTk"
      }
    },
    {
      "cell_type": "code",
      "source": [
        "from bs4 import BeautifulSoup as bs\n",
        "import requests"
      ],
      "metadata": {
        "id": "hFNY9EJbvZUZ"
      },
      "execution_count": null,
      "outputs": []
    },
    {
      "cell_type": "markdown",
      "source": [
        "**Loading the Web Page**"
      ],
      "metadata": {
        "id": "rxE_Mj3Wvltq"
      }
    },
    {
      "cell_type": "code",
      "source": [
        "r = requests.get(\"https://en.wikipedia.org/wiki/Interstellar_(film)\")"
      ],
      "metadata": {
        "id": "LzMCoSNZvog4"
      },
      "execution_count": null,
      "outputs": []
    },
    {
      "cell_type": "markdown",
      "source": [
        "*Convert to BeautifulSoup object*"
      ],
      "metadata": {
        "id": "N9Zn_u4Wv3vb"
      }
    },
    {
      "cell_type": "code",
      "source": [
        "soup = bs(r.content)"
      ],
      "metadata": {
        "id": "cvfwJOL_v7T1"
      },
      "execution_count": null,
      "outputs": []
    },
    {
      "cell_type": "code",
      "source": [
        "contents = soup.prettify()\n",
        "#print(contents)"
      ],
      "metadata": {
        "id": "YrisyGdrwnL8"
      },
      "execution_count": null,
      "outputs": []
    },
    {
      "cell_type": "code",
      "source": [
        "info_box = soup.find(class_=\"infobox vevent\")\n",
        "#print(info_box.prettify())\n",
        "info_rows = info_box.find_all(\"tr\")\n",
        "#for row in info_rows:\n",
        "  #print(row.prettify())"
      ],
      "metadata": {
        "id": "e8jyoY6xwvf6"
      },
      "execution_count": null,
      "outputs": []
    },
    {
      "cell_type": "code",
      "source": [
        "def get_content_value(row_data):\n",
        "  if row_data.find(\"li\"):\n",
        "    return [li.get_text(\" \", strip = True).replace(\"\\xa0\", \" \") for li in row_data.find_all(\"li\")]\n",
        "  else:\n",
        "    return row_data.get_text(\" \", strip = True).replace(\"\\xa0\", \" \")\n",
        "\n",
        "movie_info = {}\n",
        "\n",
        "for index, row in enumerate(info_rows):\n",
        "  if index == 0:\n",
        "    movie_info['title'] = row.find(\"th\").get_text(\" \", strip=True)\n",
        "  elif index == 1:\n",
        "    continue\n",
        "  else:\n",
        "    content_key = row.find(\"th\").get_text(\" \", strip=True)\n",
        "    content_value = get_content_value(row.find(\"td\"))\n",
        "    movie_info[content_key] = content_value\n",
        "\n",
        "\n",
        "movie_info "
      ],
      "metadata": {
        "colab": {
          "base_uri": "https://localhost:8080/"
        },
        "id": "3cXSGd3s26zT",
        "outputId": "4f2931d4-86c9-4966-bcef-73a47b9cbc8f"
      },
      "execution_count": null,
      "outputs": [
        {
          "output_type": "execute_result",
          "data": {
            "text/plain": [
              "{'Box office': '$701.8 million [3]',\n",
              " 'Budget': '$165 million [3]',\n",
              " 'Cinematography': 'Hoyte van Hoytema',\n",
              " 'Countries': ['United Kingdom [2]', 'United States [2]'],\n",
              " 'Directed by': 'Christopher Nolan',\n",
              " 'Distributed by': ['Paramount Pictures (North America)',\n",
              "  'Warner Bros. Pictures (International)'],\n",
              " 'Edited by': 'Lee Smith',\n",
              " 'Language': 'English',\n",
              " 'Music by': 'Hans Zimmer',\n",
              " 'Produced by': ['Emma Thomas', 'Christopher Nolan', 'Lynda Obst'],\n",
              " 'Production companies': ['Paramount Pictures',\n",
              "  'Warner Bros. Pictures',\n",
              "  'Legendary Pictures',\n",
              "  'Syncopy',\n",
              "  'Lynda Obst Productions'],\n",
              " 'Release dates': ['October 26, 2014 ( 2014-10-26 ) ( TCL Chinese Theatre )',\n",
              "  'November 5, 2014 ( 2014-11-05 ) (United States)',\n",
              "  'November 7, 2014 ( 2014-11-07 ) (United Kingdom)'],\n",
              " 'Running time': '169 minutes [1]',\n",
              " 'Starring': ['Matthew McConaughey',\n",
              "  'Anne Hathaway',\n",
              "  'Jessica Chastain',\n",
              "  'Bill Irwin',\n",
              "  'Ellen Burstyn',\n",
              "  'Michael Caine'],\n",
              " 'Written by': ['Jonathan Nolan', 'Christopher Nolan'],\n",
              " 'title': 'Interstellar'}"
            ]
          },
          "metadata": {},
          "execution_count": 19
        }
      ]
    }
  ]
}